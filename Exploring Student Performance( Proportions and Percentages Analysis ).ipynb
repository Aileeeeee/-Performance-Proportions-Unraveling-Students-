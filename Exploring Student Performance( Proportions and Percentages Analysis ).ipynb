{
 "cells": [
  {
   "cell_type": "markdown",
   "id": "a3a20be9",
   "metadata": {},
   "source": [
    "# Opening the file\n",
    "---------------------\n",
    "Here we turn a large dataset into a list of list"
   ]
  },
  {
   "cell_type": "code",
   "execution_count": 108,
   "id": "0b3a27cd",
   "metadata": {},
   "outputs": [],
   "source": [
    "opened_file = open('StudentsPerformance.csv')\n",
    "from csv import reader\n",
    "read_file = reader(opened_file)\n",
    "student_data =list(read_file)\n"
   ]
  },
  {
   "cell_type": "markdown",
   "id": "601dcbf1",
   "metadata": {},
   "source": [
    "# Counting with Dictionaries\n"
   ]
  },
  {
   "cell_type": "markdown",
   "id": "67cc68b9",
   "metadata": {},
   "source": [
    "### Gender Proportions\n",
    "First we determine gender proportions by answering the following questions:\n",
    "\n",
    "a.What is the proportion of male and female students in the dataset?\n",
    "\n",
    "b. Is there any gender imbalance among students' performance in math, reading, and writing? If so, what are the proportions?\n"
   ]
  },
  {
   "cell_type": "code",
   "execution_count": 109,
   "id": "f228464e",
   "metadata": {},
   "outputs": [
    {
     "name": "stdout",
     "output_type": "stream",
     "text": [
      "{'female': 518, 'male': 482}\n"
     ]
    }
   ],
   "source": [
    "Gender = {}\n",
    "for row in student_data[1:]:\n",
    "    unique_gender = row[0]\n",
    "    if unique_gender in Gender:\n",
    "        Gender[unique_gender] += 1\n",
    "    else:\n",
    "        Gender[unique_gender] = 1\n",
    "        \n",
    "print(Gender)"
   ]
  },
  {
   "cell_type": "code",
   "execution_count": 110,
   "id": "ecc4f97d",
   "metadata": {},
   "outputs": [
    {
     "name": "stdout",
     "output_type": "stream",
     "text": [
      "Proportion of male students: 0.48\n",
      "Proportion of female students: 0.52\n"
     ]
    }
   ],
   "source": [
    "total_student = len(student_data)\n",
    "\n",
    "\n",
    "male_proportion = Gender['male'] / total_student\n",
    "female_proportion = Gender['female'] / total_student\n",
    "\n",
    "male_percentage = male_proportion * 100\n",
    "female_percentage = female_proportion * 100\n",
    "\n",
    "print(f\"Proportion of male students: {male_proportion:.2f}\")\n",
    "print(f\"Proportion of female students: {female_proportion:.2f}\")"
   ]
  },
  {
   "cell_type": "markdown",
   "id": "09e7b772",
   "metadata": {},
   "source": [
    "### Hence,the proportion of male student in the dataset is given to be 48% while that of the female is 52%"
   ]
  },
  {
   "cell_type": "code",
   "execution_count": 111,
   "id": "a097d0d4",
   "metadata": {},
   "outputs": [
    {
     "name": "stdout",
     "output_type": "stream",
     "text": [
      "33127\n",
      "32962\n"
     ]
    }
   ],
   "source": [
    "male_math_scores = []\n",
    "female_math_scores = []\n",
    "for row in student_data[1:]:\n",
    "    gender = row[0]\n",
    "    math_score = int(row[5])\n",
    "    if gender == 'male':\n",
    "        male_math_scores.append(math_score)\n",
    "    else:\n",
    "        female_math_scores.append(math_score)\n",
    "        \n",
    "math_score_tot = ((sum(male_math_scores)) + sum(female_math_scores))\n",
    "\n",
    "print(sum(male_math_scores))\n",
    "print(sum(female_math_scores))\n"
   ]
  },
  {
   "cell_type": "code",
   "execution_count": 112,
   "id": "8fc2d0d7",
   "metadata": {},
   "outputs": [
    {
     "name": "stdout",
     "output_type": "stream",
     "text": [
      "31558\n",
      "37611\n"
     ]
    }
   ],
   "source": [
    "male_reading_scores = []\n",
    "female_reading_scores = []\n",
    "for row in student_data[1:]:\n",
    "    gender = row[0]\n",
    "    reading_score = int(row[6])\n",
    "    if gender == 'male':\n",
    "        male_reading_scores.append(reading_score)\n",
    "    else:\n",
    "        female_reading_scores.append(reading_score)\n",
    "\n",
    "reading_score_tot = ((sum(male_reading_scores)) + sum(female_reading_scores))\n",
    "print(sum(male_reading_scores))\n",
    "print(sum(female_reading_scores))"
   ]
  },
  {
   "cell_type": "code",
   "execution_count": 113,
   "id": "3baa0945",
   "metadata": {},
   "outputs": [
    {
     "name": "stdout",
     "output_type": "stream",
     "text": [
      "30516\n",
      "37538\n"
     ]
    }
   ],
   "source": [
    "male_writing_scores = []\n",
    "female_writing_scores = []\n",
    "for row in student_data[1:]:\n",
    "    gender = row[0]\n",
    "    writing_score = int(row[7])\n",
    "    if gender == 'male':\n",
    "        male_writing_scores.append(writing_score)\n",
    "    else:\n",
    "        female_writing_scores.append(writing_score)\n",
    "        \n",
    "writing_score_tot = ((sum(male_writing_scores)) + sum(female_writing_scores))\n",
    "\n",
    "print(sum(male_writing_scores))\n",
    "print(sum(female_writing_scores))"
   ]
  },
  {
   "cell_type": "code",
   "execution_count": 114,
   "id": "0b4ade72",
   "metadata": {},
   "outputs": [
    {
     "name": "stdout",
     "output_type": "stream",
     "text": [
      "The gender imbalance in Maths is: -0.00\n",
      "The gender imbalance in Reading is: 0.09\n",
      "The gender imbalance in Writing is: 0.10\n"
     ]
    }
   ],
   "source": [
    "math_imbalance = ((sum(female_math_scores) - sum(male_math_scores))  / math_score_tot) \n",
    "reading_imbalance = ((sum(female_reading_scores) -sum(male_reading_scores))  / reading_score_tot) \n",
    "writing_imbalance = ((sum(female_writing_scores) -sum(male_writing_scores))  / writing_score_tot) \n",
    "\n",
    "print(f\"The gender imbalance in Maths is: {math_imbalance:.2f}\")\n",
    "print(f\"The gender imbalance in Reading is: {reading_imbalance:.2f}\")\n",
    "print(f\"The gender imbalance in Writing is: {writing_imbalance:.2f}\")\n"
   ]
  },
  {
   "cell_type": "markdown",
   "id": "7feadf8e",
   "metadata": {},
   "source": [
    "### Therefore the gender imbalance  among students' performance in Maths,Reading and Writing based on their proportions are -0.00, 0.09, 0.10"
   ]
  },
  {
   "cell_type": "markdown",
   "id": "d5746845",
   "metadata": {},
   "source": [
    "------------\n",
    "### Race/Ethnicity Proportions\n",
    "\n",
    "a.What are the proportions of different race/ethnicity groups in the dataset?\n",
    "\n",
    "b. Determine the percentage of different race/ethnicity groups in the dataset ?\n"
   ]
  },
  {
   "cell_type": "code",
   "execution_count": 115,
   "id": "a77ffda5",
   "metadata": {},
   "outputs": [
    {
     "data": {
      "text/plain": [
       "{'group B': 190, 'group C': 319, 'group A': 89, 'group D': 262, 'group E': 140}"
      ]
     },
     "execution_count": 115,
     "metadata": {},
     "output_type": "execute_result"
    }
   ],
   "source": [
    "ethic_groups = {}\n",
    "for row in student_data[1:]:\n",
    "    race =row[1]\n",
    "    if race in ethic_groups:\n",
    "        ethic_groups[race] += 1\n",
    "    else:\n",
    "        ethic_groups[race] = 1\n",
    "             \n",
    "ethic_groups\n"
   ]
  },
  {
   "cell_type": "code",
   "execution_count": 116,
   "id": "cd65e616",
   "metadata": {},
   "outputs": [
    {
     "name": "stdout",
     "output_type": "stream",
     "text": [
      "{'group B': 0.19, 'group C': 0.32, 'group A': 0.09, 'group D': 0.26, 'group E': 0.14}\n",
      "{'group B': 18.98, 'group C': 31.87, 'group A': 8.89, 'group D': 26.17, 'group E': 13.99}\n"
     ]
    }
   ],
   "source": [
    "ethic_groups_proportion = {}\n",
    "ethic_groups_percentage ={}\n",
    "for row in ethic_groups:\n",
    "    proportion = ethic_groups[row] / total_student\n",
    "    percentage = proportion * 100\n",
    "    \n",
    "    ethic_groups_proportion[row] = proportion\n",
    "    ethic_groups_percentage[row] = percentage\n",
    "    \n",
    "    \n",
    "ethic_prop_dict = {k: round(v, 2) for k, v in   ethic_groups_proportion .items()}\n",
    "ethic_percent_dict = {k: round(v, 2) for k, v in   ethic_groups_percentage .items()}\n",
    "\n",
    "print(ethic_prop_dict)\n",
    "print(ethic_percent_dict)"
   ]
  },
  {
   "cell_type": "markdown",
   "id": "45cec5c7",
   "metadata": {},
   "source": [
    "### The proportions of different race/ethicity in the dataset is given as :\n",
    "Group A : 0.09, \n",
    "Group B : 0.19, \n",
    "Group C : 0.32, \n",
    "Group D : 0.26, \n",
    "Group E : 0.14, \n",
    "\n",
    "---------\n",
    "### The percentages of different race/ethicity in the dataset is given as :\n",
    "Group A : 8.89, \n",
    "Group B : 18.98, \n",
    "Group C : 31.87, \n",
    "Group D : 26.17, \n",
    "Group E : 13.99, \n",
    "\n",
    "------------\n"
   ]
  },
  {
   "cell_type": "markdown",
   "id": "f39f1848",
   "metadata": {},
   "source": [
    "### Parental Level of Education:\n",
    "\n",
    "a. What are the proportions of students with different levels of parental education?\n"
   ]
  },
  {
   "cell_type": "code",
   "execution_count": 117,
   "id": "5c3a087f",
   "metadata": {},
   "outputs": [
    {
     "data": {
      "text/plain": [
       "{\"bachelor's degree\": 118,\n",
       " 'some college': 226,\n",
       " \"master's degree\": 59,\n",
       " \"associate's degree\": 222,\n",
       " 'high school': 196,\n",
       " 'some high school': 179}"
      ]
     },
     "execution_count": 117,
     "metadata": {},
     "output_type": "execute_result"
    }
   ],
   "source": [
    "parental_level = {}\n",
    "for row in student_data[1:]:\n",
    "    level =row[2]\n",
    "    if level in parental_level:\n",
    "        parental_level[level] += 1\n",
    "    else:\n",
    "        parental_level[level] = 1\n",
    "             \n",
    "parental_level"
   ]
  },
  {
   "cell_type": "code",
   "execution_count": 118,
   "id": "01c88ca1",
   "metadata": {},
   "outputs": [
    {
     "name": "stdout",
     "output_type": "stream",
     "text": [
      "{\"bachelor's degree\": 0.12, 'some college': 0.23, \"master's degree\": 0.06, \"associate's degree\": 0.22, 'high school': 0.2, 'some high school': 0.18}\n",
      "{\"bachelor's degree\": 11.79, 'some college': 22.58, \"master's degree\": 5.89, \"associate's degree\": 22.18, 'high school': 19.58, 'some high school': 17.88}\n"
     ]
    }
   ],
   "source": [
    "parental_level_proportion = {}\n",
    "parental_level_percentage = {}\n",
    "\n",
    "for row in parental_level:\n",
    "    proportion = parental_level[row] / total_student\n",
    "    percentage = proportion * 100\n",
    "    \n",
    "    parental_level_proportion[row] = proportion\n",
    "    parental_level_percentage[row] = percentage\n",
    "    \n",
    "    \n",
    "parental_level_prop_dict = {k: round(v, 2) for k, v in   parental_level_proportion .items()}\n",
    "parental_level_percent_dict = {k: round(v, 2) for k, v in   parental_level_percentage .items()}\n",
    "\n",
    "print(parental_level_prop_dict)\n",
    "print(parental_level_percent_dict)"
   ]
  },
  {
   "cell_type": "markdown",
   "id": "febfb9ab",
   "metadata": {},
   "source": [
    "### The proportions of different race/ethicity in the dataset is given as :\n",
    "\n",
    " \"Bachelor's degree\": 0.12, 'Some college': 0.23, \"Master's degree\": 0.06, \"Associate's degree\": 0.22, 'High school': 0.2, \n",
    " 'Some high school': 0.18\n",
    " \n",
    " ----------"
   ]
  },
  {
   "cell_type": "markdown",
   "id": "9ef605b6",
   "metadata": {},
   "source": [
    "-------\n",
    "-------\n",
    "# Creating Frequency Tables With Intervals"
   ]
  },
  {
   "cell_type": "markdown",
   "id": "e5f9ec9e",
   "metadata": {},
   "source": [
    "## Evaluating student's performance in Maths\n",
    "\n",
    "First we determine the minimum and maximum scores to enable us create reasonable intervals"
   ]
  },
  {
   "cell_type": "code",
   "execution_count": 119,
   "id": "9ce2f772",
   "metadata": {},
   "outputs": [
    {
     "name": "stdout",
     "output_type": "stream",
     "text": [
      "0\n",
      "100\n"
     ]
    }
   ],
   "source": [
    "maths_scores = []\n",
    "for row in student_data[1:]:\n",
    "    score = int(row[5] )\n",
    "    maths_scores.append(score)\n",
    "\n",
    "min_score = min(maths_scores)\n",
    "max_score = max(maths_scores)\n",
    "\n",
    "print(min_score)\n",
    "print(max_score)\n"
   ]
  },
  {
   "cell_type": "markdown",
   "id": "12c651da",
   "metadata": {},
   "source": [
    "------\n",
    "Here we evaluate the student's performance in maths by allocating maths scores to a five point interval to see their performances ranging from \"Very Poor\" to \"Excellent\""
   ]
  },
  {
   "cell_type": "code",
   "execution_count": 120,
   "id": "4d3d4047",
   "metadata": {},
   "outputs": [
    {
     "data": {
      "text/plain": [
       "{'Very Poor': 3, 'Poor': 36, 'Average': 173, 'Good': 468, 'Excellent': 176}"
      ]
     },
     "execution_count": 120,
     "metadata": {},
     "output_type": "execute_result"
    }
   ],
   "source": [
    "maths_grades = {\"Very Poor\" : 0, \"Poor\":0, \"Average\" : 0, \"Good\": 0, \"Excellent\" : 0}\n",
    "\n",
    "for row in student_data[1:]:\n",
    "    score = int(row[5])\n",
    "    \n",
    "    if score < 19:\n",
    "        maths_grades[\"Very Poor\"] += 1\n",
    "    elif 20 < score <= 39:\n",
    "        maths_grades[\"Poor\"] += 1\n",
    "    elif 50 < score <= 59:\n",
    "        maths_grades[\"Average\"] += 1\n",
    "    elif 60 < score <= 79: \n",
    "        maths_grades[\"Good\"] += 1\n",
    "    elif score > 80:\n",
    "        maths_grades[\"Excellent\"] += 1\n",
    "        \n",
    "maths_grades"
   ]
  },
  {
   "cell_type": "code",
   "execution_count": 121,
   "id": "452c7336",
   "metadata": {},
   "outputs": [
    {
     "name": "stdout",
     "output_type": "stream",
     "text": [
      "{'Very Poor': 0.0, 'Poor': 0.04, 'Average': 0.17, 'Good': 0.47, 'Excellent': 0.18}\n",
      "{'Very Poor': 0.0, 'Poor': 4.0, 'Average': 17.0, 'Good': 47.0, 'Excellent': 18.0}\n"
     ]
    }
   ],
   "source": [
    "maths_grade_proportion = {}\n",
    "maths_grade_percentage = {}\n",
    "\n",
    "for row in maths_grades:\n",
    "    proportion = maths_grades[row] / total_student\n",
    "    percentage = proportion * 100\n",
    "    \n",
    "    maths_grade_proportion[row] = proportion\n",
    "    maths_grade_percentage[row] = percentage\n",
    "    \n",
    "    \n",
    "maths_grade_prop_dict = {k: round(v, 2) for k, v in   maths_grade_proportion .items()}\n",
    "maths_grade_percent_dict = {k: round(v, 0) for k, v in   maths_grade_percentage .items()}\n",
    "\n",
    "print(maths_grade_prop_dict)\n",
    "print(maths_grade_percent_dict)"
   ]
  },
  {
   "cell_type": "markdown",
   "id": "34cd7469",
   "metadata": {},
   "source": [
    "### Therefore , the evaluation of the student's performance in maths in the dataset show that:\n",
    "\n",
    "0% of the students had \"Very poor\" grades\n",
    "\n",
    "4% of the students had \"Poor\" grades\n",
    "\n",
    "17% of the students  had \"Average\" grades\n",
    "\n",
    "47% of the students had \"Good\" grades\n",
    "\n",
    "18% of the students had \"Excellent\" grades\n",
    "\n",
    "\n",
    "---\n",
    "---"
   ]
  },
  {
   "cell_type": "markdown",
   "id": "1886c49f",
   "metadata": {},
   "source": [
    "## Evaluating student's Reading Habits\n",
    "\n",
    "First we determine the minimum and maximum values to enable us create reasonable intervals"
   ]
  },
  {
   "cell_type": "code",
   "execution_count": 122,
   "id": "fc8f250a",
   "metadata": {},
   "outputs": [
    {
     "name": "stdout",
     "output_type": "stream",
     "text": [
      "17\n",
      "100\n"
     ]
    }
   ],
   "source": [
    "reading_scores = []\n",
    "for row in student_data[1:]:\n",
    "    score = int(row[6] )\n",
    "    reading_scores.append(score)\n",
    "\n",
    "min_score = min(reading_scores)\n",
    "max_score = max(reading_scores)\n",
    "\n",
    "print(min_score)\n",
    "print(max_score)\n",
    "\n"
   ]
  },
  {
   "cell_type": "markdown",
   "id": "a44ccb7a",
   "metadata": {},
   "source": [
    "#### Here student's reading habits are measured on a score of 0 - 100 with a minimum value of 17 and maximum value of 100"
   ]
  },
  {
   "cell_type": "code",
   "execution_count": 123,
   "id": "63079bca",
   "metadata": {},
   "outputs": [
    {
     "data": {
      "text/plain": [
       "{'Minimal Effort': 1,\n",
       " 'Below Average': 25,\n",
       " 'Average': 157,\n",
       " 'Above Average': 476,\n",
       " 'Exceptional Effort': 235}"
      ]
     },
     "execution_count": 123,
     "metadata": {},
     "output_type": "execute_result"
    }
   ],
   "source": [
    "reading_habit = {\"Minimal Effort\" : 0, \"Below Average\":0, \"Average\" : 0, \"Above Average\": 0, \"Exceptional Effort\" : 0}\n",
    "\n",
    "for row in student_data[1:]:\n",
    "    score = int(row[6])\n",
    "    \n",
    "    if score < 19:\n",
    "        reading_habit[\"Minimal Effort\"] += 1    \n",
    "    elif 20 < score <= 39:\n",
    "        reading_habit[\"Below Average\"] += 1\n",
    "    elif 50 < score <= 59:\n",
    "        reading_habit[\"Average\"] += 1\n",
    "    elif 60 < score <= 79: \n",
    "        reading_habit[\"Above Average\"] += 1\n",
    "    elif score > 80:\n",
    "        reading_habit[\"Exceptional Effort\"] += 1\n",
    "        \n",
    "reading_habit"
   ]
  },
  {
   "cell_type": "code",
   "execution_count": 124,
   "id": "6776a06a",
   "metadata": {},
   "outputs": [
    {
     "name": "stdout",
     "output_type": "stream",
     "text": [
      "{'Minimal Effort': 0.0, 'Below Average': 0.02, 'Average': 0.16, 'Above Average': 0.48, 'Exceptional Effort': 0.23}\n",
      "{'Minimal Effort': 0.0, 'Below Average': 2.0, 'Average': 16.0, 'Above Average': 48.0, 'Exceptional Effort': 23.0}\n"
     ]
    }
   ],
   "source": [
    "reading_habit_proportion = {}\n",
    "reading_habit_percentage = {}\n",
    "\n",
    "for row in reading_habit:\n",
    "    proportion = reading_habit[row] / total_student\n",
    "    percentage = proportion * 100\n",
    "    \n",
    "    reading_habit_proportion[row] = proportion\n",
    "    reading_habit_percentage[row] = percentage\n",
    "    \n",
    "    \n",
    "reading_habit_prop_dict = {k: round(v, 2) for k, v in   reading_habit_proportion .items()}\n",
    "reading_habit_percent_dict = {k: round(v, 0) for k, v in   reading_habit_percentage.items()}\n",
    "\n",
    "print(reading_habit_prop_dict)\n",
    "print(reading_habit_percent_dict )"
   ]
  },
  {
   "cell_type": "markdown",
   "id": "f05266dc",
   "metadata": {},
   "source": [
    "### Therefore , the evaluation of the student's performance in maths in the dataset show that:\n",
    "0% of the students put \"Minimal Effort\" in studying\n",
    "\n",
    "2% of the students had \"Below Average\" studying habit\n",
    "\n",
    "16% of the students had \"Average\" studying habit\n",
    "\n",
    "48% of the students had \"Above Average\" studying habit\n",
    "\n",
    "18% of the students put \"Exceptional Effort\" in studying\n"
   ]
  },
  {
   "cell_type": "code",
   "execution_count": null,
   "id": "5366dd48",
   "metadata": {},
   "outputs": [],
   "source": []
  }
 ],
 "metadata": {
  "kernelspec": {
   "display_name": "Python 3 (ipykernel)",
   "language": "python",
   "name": "python3"
  },
  "language_info": {
   "codemirror_mode": {
    "name": "ipython",
    "version": 3
   },
   "file_extension": ".py",
   "mimetype": "text/x-python",
   "name": "python",
   "nbconvert_exporter": "python",
   "pygments_lexer": "ipython3",
   "version": "3.10.9"
  }
 },
 "nbformat": 4,
 "nbformat_minor": 5
}
